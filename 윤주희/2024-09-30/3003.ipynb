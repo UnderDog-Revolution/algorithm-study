{
 "cells": [
  {
   "cell_type": "code",
   "execution_count": 1,
   "metadata": {},
   "outputs": [],
   "source": [
    "grade = {'A+': 4.5, 'A0': 4.0, 'B+': 3.5, 'B0': 3.0, 'C+': 2.5, 'C0': 2.0, 'D+': 1.5, 'D0': 1.0,'F': 0.0}\n"
   ]
  },
  {
   "cell_type": "code",
   "execution_count": 2,
   "metadata": {},
   "outputs": [],
   "source": [
    "\n",
    "courses = [\n",
    "    \"ObjectOrientedProgramming1 3.0 A+\",\n",
    "    \"IntroductiontoComputerEngineering 3.0 A+\",\n",
    "    \"ObjectOrientedProgramming2 3.0 A0\",\n",
    "    \"CreativeComputerEngineeringDesign 3.0 A+\",\n",
    "    \"AssemblyLanguage 3.0 A+\",\n",
    "    \"InternetProgramming 3.0 B0\",\n",
    "    \"ApplicationProgramminginJava 3.0 A0\",\n",
    "    \"SystemProgramming 3.0 B0\",\n",
    "    \"OperatingSystem 3.0 B0\",\n",
    "    \"WirelessCommunicationsandNetworking 3.0 C+\",\n",
    "    \"LogicCircuits 3.0 B0\",\n",
    "    \"DataStructure 4.0 A+\",\n",
    "    \"MicroprocessorApplication 3.0 B+\",\n",
    "    \"EmbeddedSoftware 3.0 C0\",\n",
    "    \"ComputerSecurity 3.0 D+\",\n",
    "    \"Database 3.0 C+\",\n",
    "    \"Algorithm 3.0 B0\",\n",
    "    \"CapstoneDesigninCSE 3.0 B+\",\n",
    "    \"CompilerDesign 3.0 D0\",\n",
    "    \"ProblemSolving 4.0 P\"\n",
    "]\n",
    "\n"
   ]
  },
  {
   "cell_type": "code",
   "execution_count": 3,
   "metadata": {},
   "outputs": [],
   "source": [
    "total = 0\n",
    "tot_time = 0\n",
    "\n",
    "for course  in courses:\n",
    "    course_all = course.split()\n",
    "    name = course_all[0]\n",
    "    time = float(course_all[1])\n",
    "    myscore = course_all[2]\n",
    "    if myscore == 'P':\n",
    "        continue\n",
    "\n",
    "    total += time * grade[myscore]\n",
    "    tot_time += time "
   ]
  },
  {
   "cell_type": "code",
   "execution_count": 5,
   "metadata": {},
   "outputs": [
    {
     "data": {
      "text/plain": [
       "3.2844827586206895"
      ]
     },
     "execution_count": 5,
     "metadata": {},
     "output_type": "execute_result"
    }
   ],
   "source": [
    "major_tot = total / tot_time\n",
    "print(major_tot)"
   ]
  }
 ],
 "metadata": {
  "kernelspec": {
   "display_name": "Python 3",
   "language": "python",
   "name": "python3"
  },
  "language_info": {
   "codemirror_mode": {
    "name": "ipython",
    "version": 3
   },
   "file_extension": ".py",
   "mimetype": "text/x-python",
   "name": "python",
   "nbconvert_exporter": "python",
   "pygments_lexer": "ipython3",
   "version": "3.9.12"
  }
 },
 "nbformat": 4,
 "nbformat_minor": 2
}
